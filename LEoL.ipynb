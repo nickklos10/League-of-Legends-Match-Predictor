{
  "nbformat": 4,
  "nbformat_minor": 0,
  "metadata": {
    "colab": {
      "provenance": [],
      "authorship_tag": "ABX9TyNk7B7l7myFJSVEKqssOyi4",
      "include_colab_link": true
    },
    "kernelspec": {
      "name": "python3",
      "display_name": "Python 3"
    },
    "language_info": {
      "name": "python"
    }
  },
  "cells": [
    {
      "cell_type": "markdown",
      "metadata": {
        "id": "view-in-github",
        "colab_type": "text"
      },
      "source": [
        "<a href=\"https://colab.research.google.com/github/nickklos10/League-of-Legends-Match-Predictor/blob/main/LEoL.ipynb\" target=\"_parent\"><img src=\"https://colab.research.google.com/assets/colab-badge.svg\" alt=\"Open In Colab\"/></a>"
      ]
    },
    {
      "cell_type": "code",
      "execution_count": 1,
      "metadata": {
        "colab": {
          "base_uri": "https://localhost:8080/"
        },
        "id": "huMKYtTd1G2D",
        "outputId": "19752b36-9c0c-49c9-82a9-faa0e8d39987"
      },
      "outputs": [
        {
          "output_type": "stream",
          "name": "stdout",
          "text": [
            "Requirement already satisfied: pandas in /usr/local/lib/python3.10/dist-packages (2.2.2)\n",
            "Requirement already satisfied: numpy>=1.22.4 in /usr/local/lib/python3.10/dist-packages (from pandas) (1.26.4)\n",
            "Requirement already satisfied: python-dateutil>=2.8.2 in /usr/local/lib/python3.10/dist-packages (from pandas) (2.8.2)\n",
            "Requirement already satisfied: pytz>=2020.1 in /usr/local/lib/python3.10/dist-packages (from pandas) (2024.2)\n",
            "Requirement already satisfied: tzdata>=2022.7 in /usr/local/lib/python3.10/dist-packages (from pandas) (2024.2)\n",
            "Requirement already satisfied: six>=1.5 in /usr/local/lib/python3.10/dist-packages (from python-dateutil>=2.8.2->pandas) (1.16.0)\n",
            "Requirement already satisfied: scikit-learn in /usr/local/lib/python3.10/dist-packages (1.5.2)\n",
            "Requirement already satisfied: numpy>=1.19.5 in /usr/local/lib/python3.10/dist-packages (from scikit-learn) (1.26.4)\n",
            "Requirement already satisfied: scipy>=1.6.0 in /usr/local/lib/python3.10/dist-packages (from scikit-learn) (1.13.1)\n",
            "Requirement already satisfied: joblib>=1.2.0 in /usr/local/lib/python3.10/dist-packages (from scikit-learn) (1.4.2)\n",
            "Requirement already satisfied: threadpoolctl>=3.1.0 in /usr/local/lib/python3.10/dist-packages (from scikit-learn) (3.5.0)\n",
            "Requirement already satisfied: torch in /usr/local/lib/python3.10/dist-packages (2.5.1+cu121)\n",
            "Requirement already satisfied: filelock in /usr/local/lib/python3.10/dist-packages (from torch) (3.16.1)\n",
            "Requirement already satisfied: typing-extensions>=4.8.0 in /usr/local/lib/python3.10/dist-packages (from torch) (4.12.2)\n",
            "Requirement already satisfied: networkx in /usr/local/lib/python3.10/dist-packages (from torch) (3.4.2)\n",
            "Requirement already satisfied: jinja2 in /usr/local/lib/python3.10/dist-packages (from torch) (3.1.4)\n",
            "Requirement already satisfied: fsspec in /usr/local/lib/python3.10/dist-packages (from torch) (2024.10.0)\n",
            "Requirement already satisfied: sympy==1.13.1 in /usr/local/lib/python3.10/dist-packages (from torch) (1.13.1)\n",
            "Requirement already satisfied: mpmath<1.4,>=1.1.0 in /usr/local/lib/python3.10/dist-packages (from sympy==1.13.1->torch) (1.3.0)\n",
            "Requirement already satisfied: MarkupSafe>=2.0 in /usr/local/lib/python3.10/dist-packages (from jinja2->torch) (3.0.2)\n",
            "Requirement already satisfied: matplotlib in /usr/local/lib/python3.10/dist-packages (3.8.0)\n",
            "Requirement already satisfied: contourpy>=1.0.1 in /usr/local/lib/python3.10/dist-packages (from matplotlib) (1.3.1)\n",
            "Requirement already satisfied: cycler>=0.10 in /usr/local/lib/python3.10/dist-packages (from matplotlib) (0.12.1)\n",
            "Requirement already satisfied: fonttools>=4.22.0 in /usr/local/lib/python3.10/dist-packages (from matplotlib) (4.55.0)\n",
            "Requirement already satisfied: kiwisolver>=1.0.1 in /usr/local/lib/python3.10/dist-packages (from matplotlib) (1.4.7)\n",
            "Requirement already satisfied: numpy<2,>=1.21 in /usr/local/lib/python3.10/dist-packages (from matplotlib) (1.26.4)\n",
            "Requirement already satisfied: packaging>=20.0 in /usr/local/lib/python3.10/dist-packages (from matplotlib) (24.2)\n",
            "Requirement already satisfied: pillow>=6.2.0 in /usr/local/lib/python3.10/dist-packages (from matplotlib) (11.0.0)\n",
            "Requirement already satisfied: pyparsing>=2.3.1 in /usr/local/lib/python3.10/dist-packages (from matplotlib) (3.2.0)\n",
            "Requirement already satisfied: python-dateutil>=2.7 in /usr/local/lib/python3.10/dist-packages (from matplotlib) (2.8.2)\n",
            "Requirement already satisfied: six>=1.5 in /usr/local/lib/python3.10/dist-packages (from python-dateutil>=2.7->matplotlib) (1.16.0)\n"
          ]
        }
      ],
      "source": [
        "!pip install pandas\n",
        "!pip install scikit-learn\n",
        "!pip install torch\n",
        "!pip install matplotlib"
      ]
    },
    {
      "cell_type": "code",
      "source": [
        "import pandas as pd\n",
        "import numpy as np\n",
        "from sklearn.model_selection import train_test_split\n",
        "from sklearn.preprocessing import StandardScaler\n",
        "import torch"
      ],
      "metadata": {
        "id": "ZfhCXma12dIq"
      },
      "execution_count": 2,
      "outputs": []
    },
    {
      "cell_type": "code",
      "source": [
        "data_path = '/content/league_of_legends_data_large.csv'\n",
        "try:\n",
        "    data = pd.read_csv(data_path)\n",
        "    print(\"Dataset loaded successfully.\")\n",
        "except FileNotFoundError:\n",
        "    print(f\"Error: The file '{data_path}' was not found.\")\n",
        "    exit()\n",
        "\n",
        "print(\"\\nFirst 5 rows of the dataset:\")\n",
        "data.head()"
      ],
      "metadata": {
        "colab": {
          "base_uri": "https://localhost:8080/",
          "height": 260
        },
        "id": "3O7Q4lLP13Ea",
        "outputId": "037eae9b-672a-44f4-8735-a4b73a161589"
      },
      "execution_count": 3,
      "outputs": [
        {
          "output_type": "stream",
          "name": "stdout",
          "text": [
            "Dataset loaded successfully.\n",
            "\n",
            "First 5 rows of the dataset:\n"
          ]
        },
        {
          "output_type": "execute_result",
          "data": {
            "text/plain": [
              "   win  kills  deaths  assists  gold_earned   cs  wards_placed  wards_killed  \\\n",
              "0    0     16       6       19        17088  231            11             7   \n",
              "1    1      8       8        5        14865  259            10             2   \n",
              "2    0      0      17       11        15919  169            14             5   \n",
              "3    0     19      11        1        11534  264            14             3   \n",
              "4    0     12       7        6        18926  124            15             7   \n",
              "\n",
              "   damage_dealt  \n",
              "0         15367  \n",
              "1         38332  \n",
              "2         24642  \n",
              "3         15789  \n",
              "4         40268  "
            ],
            "text/html": [
              "\n",
              "  <div id=\"df-21c5d37e-7fd8-421c-8895-ad33c56657cf\" class=\"colab-df-container\">\n",
              "    <div>\n",
              "<style scoped>\n",
              "    .dataframe tbody tr th:only-of-type {\n",
              "        vertical-align: middle;\n",
              "    }\n",
              "\n",
              "    .dataframe tbody tr th {\n",
              "        vertical-align: top;\n",
              "    }\n",
              "\n",
              "    .dataframe thead th {\n",
              "        text-align: right;\n",
              "    }\n",
              "</style>\n",
              "<table border=\"1\" class=\"dataframe\">\n",
              "  <thead>\n",
              "    <tr style=\"text-align: right;\">\n",
              "      <th></th>\n",
              "      <th>win</th>\n",
              "      <th>kills</th>\n",
              "      <th>deaths</th>\n",
              "      <th>assists</th>\n",
              "      <th>gold_earned</th>\n",
              "      <th>cs</th>\n",
              "      <th>wards_placed</th>\n",
              "      <th>wards_killed</th>\n",
              "      <th>damage_dealt</th>\n",
              "    </tr>\n",
              "  </thead>\n",
              "  <tbody>\n",
              "    <tr>\n",
              "      <th>0</th>\n",
              "      <td>0</td>\n",
              "      <td>16</td>\n",
              "      <td>6</td>\n",
              "      <td>19</td>\n",
              "      <td>17088</td>\n",
              "      <td>231</td>\n",
              "      <td>11</td>\n",
              "      <td>7</td>\n",
              "      <td>15367</td>\n",
              "    </tr>\n",
              "    <tr>\n",
              "      <th>1</th>\n",
              "      <td>1</td>\n",
              "      <td>8</td>\n",
              "      <td>8</td>\n",
              "      <td>5</td>\n",
              "      <td>14865</td>\n",
              "      <td>259</td>\n",
              "      <td>10</td>\n",
              "      <td>2</td>\n",
              "      <td>38332</td>\n",
              "    </tr>\n",
              "    <tr>\n",
              "      <th>2</th>\n",
              "      <td>0</td>\n",
              "      <td>0</td>\n",
              "      <td>17</td>\n",
              "      <td>11</td>\n",
              "      <td>15919</td>\n",
              "      <td>169</td>\n",
              "      <td>14</td>\n",
              "      <td>5</td>\n",
              "      <td>24642</td>\n",
              "    </tr>\n",
              "    <tr>\n",
              "      <th>3</th>\n",
              "      <td>0</td>\n",
              "      <td>19</td>\n",
              "      <td>11</td>\n",
              "      <td>1</td>\n",
              "      <td>11534</td>\n",
              "      <td>264</td>\n",
              "      <td>14</td>\n",
              "      <td>3</td>\n",
              "      <td>15789</td>\n",
              "    </tr>\n",
              "    <tr>\n",
              "      <th>4</th>\n",
              "      <td>0</td>\n",
              "      <td>12</td>\n",
              "      <td>7</td>\n",
              "      <td>6</td>\n",
              "      <td>18926</td>\n",
              "      <td>124</td>\n",
              "      <td>15</td>\n",
              "      <td>7</td>\n",
              "      <td>40268</td>\n",
              "    </tr>\n",
              "  </tbody>\n",
              "</table>\n",
              "</div>\n",
              "    <div class=\"colab-df-buttons\">\n",
              "\n",
              "  <div class=\"colab-df-container\">\n",
              "    <button class=\"colab-df-convert\" onclick=\"convertToInteractive('df-21c5d37e-7fd8-421c-8895-ad33c56657cf')\"\n",
              "            title=\"Convert this dataframe to an interactive table.\"\n",
              "            style=\"display:none;\">\n",
              "\n",
              "  <svg xmlns=\"http://www.w3.org/2000/svg\" height=\"24px\" viewBox=\"0 -960 960 960\">\n",
              "    <path d=\"M120-120v-720h720v720H120Zm60-500h600v-160H180v160Zm220 220h160v-160H400v160Zm0 220h160v-160H400v160ZM180-400h160v-160H180v160Zm440 0h160v-160H620v160ZM180-180h160v-160H180v160Zm440 0h160v-160H620v160Z\"/>\n",
              "  </svg>\n",
              "    </button>\n",
              "\n",
              "  <style>\n",
              "    .colab-df-container {\n",
              "      display:flex;\n",
              "      gap: 12px;\n",
              "    }\n",
              "\n",
              "    .colab-df-convert {\n",
              "      background-color: #E8F0FE;\n",
              "      border: none;\n",
              "      border-radius: 50%;\n",
              "      cursor: pointer;\n",
              "      display: none;\n",
              "      fill: #1967D2;\n",
              "      height: 32px;\n",
              "      padding: 0 0 0 0;\n",
              "      width: 32px;\n",
              "    }\n",
              "\n",
              "    .colab-df-convert:hover {\n",
              "      background-color: #E2EBFA;\n",
              "      box-shadow: 0px 1px 2px rgba(60, 64, 67, 0.3), 0px 1px 3px 1px rgba(60, 64, 67, 0.15);\n",
              "      fill: #174EA6;\n",
              "    }\n",
              "\n",
              "    .colab-df-buttons div {\n",
              "      margin-bottom: 4px;\n",
              "    }\n",
              "\n",
              "    [theme=dark] .colab-df-convert {\n",
              "      background-color: #3B4455;\n",
              "      fill: #D2E3FC;\n",
              "    }\n",
              "\n",
              "    [theme=dark] .colab-df-convert:hover {\n",
              "      background-color: #434B5C;\n",
              "      box-shadow: 0px 1px 3px 1px rgba(0, 0, 0, 0.15);\n",
              "      filter: drop-shadow(0px 1px 2px rgba(0, 0, 0, 0.3));\n",
              "      fill: #FFFFFF;\n",
              "    }\n",
              "  </style>\n",
              "\n",
              "    <script>\n",
              "      const buttonEl =\n",
              "        document.querySelector('#df-21c5d37e-7fd8-421c-8895-ad33c56657cf button.colab-df-convert');\n",
              "      buttonEl.style.display =\n",
              "        google.colab.kernel.accessAllowed ? 'block' : 'none';\n",
              "\n",
              "      async function convertToInteractive(key) {\n",
              "        const element = document.querySelector('#df-21c5d37e-7fd8-421c-8895-ad33c56657cf');\n",
              "        const dataTable =\n",
              "          await google.colab.kernel.invokeFunction('convertToInteractive',\n",
              "                                                    [key], {});\n",
              "        if (!dataTable) return;\n",
              "\n",
              "        const docLinkHtml = 'Like what you see? Visit the ' +\n",
              "          '<a target=\"_blank\" href=https://colab.research.google.com/notebooks/data_table.ipynb>data table notebook</a>'\n",
              "          + ' to learn more about interactive tables.';\n",
              "        element.innerHTML = '';\n",
              "        dataTable['output_type'] = 'display_data';\n",
              "        await google.colab.output.renderOutput(dataTable, element);\n",
              "        const docLink = document.createElement('div');\n",
              "        docLink.innerHTML = docLinkHtml;\n",
              "        element.appendChild(docLink);\n",
              "      }\n",
              "    </script>\n",
              "  </div>\n",
              "\n",
              "\n",
              "<div id=\"df-26928532-1422-4a9f-a01c-1b4cac9ac1c2\">\n",
              "  <button class=\"colab-df-quickchart\" onclick=\"quickchart('df-26928532-1422-4a9f-a01c-1b4cac9ac1c2')\"\n",
              "            title=\"Suggest charts\"\n",
              "            style=\"display:none;\">\n",
              "\n",
              "<svg xmlns=\"http://www.w3.org/2000/svg\" height=\"24px\"viewBox=\"0 0 24 24\"\n",
              "     width=\"24px\">\n",
              "    <g>\n",
              "        <path d=\"M19 3H5c-1.1 0-2 .9-2 2v14c0 1.1.9 2 2 2h14c1.1 0 2-.9 2-2V5c0-1.1-.9-2-2-2zM9 17H7v-7h2v7zm4 0h-2V7h2v10zm4 0h-2v-4h2v4z\"/>\n",
              "    </g>\n",
              "</svg>\n",
              "  </button>\n",
              "\n",
              "<style>\n",
              "  .colab-df-quickchart {\n",
              "      --bg-color: #E8F0FE;\n",
              "      --fill-color: #1967D2;\n",
              "      --hover-bg-color: #E2EBFA;\n",
              "      --hover-fill-color: #174EA6;\n",
              "      --disabled-fill-color: #AAA;\n",
              "      --disabled-bg-color: #DDD;\n",
              "  }\n",
              "\n",
              "  [theme=dark] .colab-df-quickchart {\n",
              "      --bg-color: #3B4455;\n",
              "      --fill-color: #D2E3FC;\n",
              "      --hover-bg-color: #434B5C;\n",
              "      --hover-fill-color: #FFFFFF;\n",
              "      --disabled-bg-color: #3B4455;\n",
              "      --disabled-fill-color: #666;\n",
              "  }\n",
              "\n",
              "  .colab-df-quickchart {\n",
              "    background-color: var(--bg-color);\n",
              "    border: none;\n",
              "    border-radius: 50%;\n",
              "    cursor: pointer;\n",
              "    display: none;\n",
              "    fill: var(--fill-color);\n",
              "    height: 32px;\n",
              "    padding: 0;\n",
              "    width: 32px;\n",
              "  }\n",
              "\n",
              "  .colab-df-quickchart:hover {\n",
              "    background-color: var(--hover-bg-color);\n",
              "    box-shadow: 0 1px 2px rgba(60, 64, 67, 0.3), 0 1px 3px 1px rgba(60, 64, 67, 0.15);\n",
              "    fill: var(--button-hover-fill-color);\n",
              "  }\n",
              "\n",
              "  .colab-df-quickchart-complete:disabled,\n",
              "  .colab-df-quickchart-complete:disabled:hover {\n",
              "    background-color: var(--disabled-bg-color);\n",
              "    fill: var(--disabled-fill-color);\n",
              "    box-shadow: none;\n",
              "  }\n",
              "\n",
              "  .colab-df-spinner {\n",
              "    border: 2px solid var(--fill-color);\n",
              "    border-color: transparent;\n",
              "    border-bottom-color: var(--fill-color);\n",
              "    animation:\n",
              "      spin 1s steps(1) infinite;\n",
              "  }\n",
              "\n",
              "  @keyframes spin {\n",
              "    0% {\n",
              "      border-color: transparent;\n",
              "      border-bottom-color: var(--fill-color);\n",
              "      border-left-color: var(--fill-color);\n",
              "    }\n",
              "    20% {\n",
              "      border-color: transparent;\n",
              "      border-left-color: var(--fill-color);\n",
              "      border-top-color: var(--fill-color);\n",
              "    }\n",
              "    30% {\n",
              "      border-color: transparent;\n",
              "      border-left-color: var(--fill-color);\n",
              "      border-top-color: var(--fill-color);\n",
              "      border-right-color: var(--fill-color);\n",
              "    }\n",
              "    40% {\n",
              "      border-color: transparent;\n",
              "      border-right-color: var(--fill-color);\n",
              "      border-top-color: var(--fill-color);\n",
              "    }\n",
              "    60% {\n",
              "      border-color: transparent;\n",
              "      border-right-color: var(--fill-color);\n",
              "    }\n",
              "    80% {\n",
              "      border-color: transparent;\n",
              "      border-right-color: var(--fill-color);\n",
              "      border-bottom-color: var(--fill-color);\n",
              "    }\n",
              "    90% {\n",
              "      border-color: transparent;\n",
              "      border-bottom-color: var(--fill-color);\n",
              "    }\n",
              "  }\n",
              "</style>\n",
              "\n",
              "  <script>\n",
              "    async function quickchart(key) {\n",
              "      const quickchartButtonEl =\n",
              "        document.querySelector('#' + key + ' button');\n",
              "      quickchartButtonEl.disabled = true;  // To prevent multiple clicks.\n",
              "      quickchartButtonEl.classList.add('colab-df-spinner');\n",
              "      try {\n",
              "        const charts = await google.colab.kernel.invokeFunction(\n",
              "            'suggestCharts', [key], {});\n",
              "      } catch (error) {\n",
              "        console.error('Error during call to suggestCharts:', error);\n",
              "      }\n",
              "      quickchartButtonEl.classList.remove('colab-df-spinner');\n",
              "      quickchartButtonEl.classList.add('colab-df-quickchart-complete');\n",
              "    }\n",
              "    (() => {\n",
              "      let quickchartButtonEl =\n",
              "        document.querySelector('#df-26928532-1422-4a9f-a01c-1b4cac9ac1c2 button');\n",
              "      quickchartButtonEl.style.display =\n",
              "        google.colab.kernel.accessAllowed ? 'block' : 'none';\n",
              "    })();\n",
              "  </script>\n",
              "</div>\n",
              "\n",
              "    </div>\n",
              "  </div>\n"
            ],
            "application/vnd.google.colaboratory.intrinsic+json": {
              "type": "dataframe",
              "variable_name": "data",
              "summary": "{\n  \"name\": \"data\",\n  \"rows\": 1000,\n  \"fields\": [\n    {\n      \"column\": \"win\",\n      \"properties\": {\n        \"dtype\": \"number\",\n        \"std\": 0,\n        \"min\": 0,\n        \"max\": 1,\n        \"num_unique_values\": 2,\n        \"samples\": [\n          1,\n          0\n        ],\n        \"semantic_type\": \"\",\n        \"description\": \"\"\n      }\n    },\n    {\n      \"column\": \"kills\",\n      \"properties\": {\n        \"dtype\": \"number\",\n        \"std\": 5,\n        \"min\": 0,\n        \"max\": 19,\n        \"num_unique_values\": 20,\n        \"samples\": [\n          16,\n          7\n        ],\n        \"semantic_type\": \"\",\n        \"description\": \"\"\n      }\n    },\n    {\n      \"column\": \"deaths\",\n      \"properties\": {\n        \"dtype\": \"number\",\n        \"std\": 5,\n        \"min\": 0,\n        \"max\": 19,\n        \"num_unique_values\": 20,\n        \"samples\": [\n          6,\n          0\n        ],\n        \"semantic_type\": \"\",\n        \"description\": \"\"\n      }\n    },\n    {\n      \"column\": \"assists\",\n      \"properties\": {\n        \"dtype\": \"number\",\n        \"std\": 5,\n        \"min\": 0,\n        \"max\": 19,\n        \"num_unique_values\": 20,\n        \"samples\": [\n          19,\n          14\n        ],\n        \"semantic_type\": \"\",\n        \"description\": \"\"\n      }\n    },\n    {\n      \"column\": \"gold_earned\",\n      \"properties\": {\n        \"dtype\": \"number\",\n        \"std\": 4388,\n        \"min\": 5002,\n        \"max\": 19955,\n        \"num_unique_values\": 963,\n        \"samples\": [\n          12024,\n          17905\n        ],\n        \"semantic_type\": \"\",\n        \"description\": \"\"\n      }\n    },\n    {\n      \"column\": \"cs\",\n      \"properties\": {\n        \"dtype\": \"number\",\n        \"std\": 72,\n        \"min\": 50,\n        \"max\": 299,\n        \"num_unique_values\": 244,\n        \"samples\": [\n          263,\n          221\n        ],\n        \"semantic_type\": \"\",\n        \"description\": \"\"\n      }\n    },\n    {\n      \"column\": \"wards_placed\",\n      \"properties\": {\n        \"dtype\": \"number\",\n        \"std\": 5,\n        \"min\": 0,\n        \"max\": 19,\n        \"num_unique_values\": 20,\n        \"samples\": [\n          11,\n          17\n        ],\n        \"semantic_type\": \"\",\n        \"description\": \"\"\n      }\n    },\n    {\n      \"column\": \"wards_killed\",\n      \"properties\": {\n        \"dtype\": \"number\",\n        \"std\": 2,\n        \"min\": 0,\n        \"max\": 9,\n        \"num_unique_values\": 10,\n        \"samples\": [\n          1,\n          2\n        ],\n        \"semantic_type\": \"\",\n        \"description\": \"\"\n      }\n    },\n    {\n      \"column\": \"damage_dealt\",\n      \"properties\": {\n        \"dtype\": \"number\",\n        \"std\": 13221,\n        \"min\": 5028,\n        \"max\": 49927,\n        \"num_unique_values\": 993,\n        \"samples\": [\n          40281,\n          43411\n        ],\n        \"semantic_type\": \"\",\n        \"description\": \"\"\n      }\n    }\n  ]\n}"
            }
          },
          "metadata": {},
          "execution_count": 3
        }
      ]
    },
    {
      "cell_type": "code",
      "source": [
        "X = data.drop('win', axis=1)\n",
        "y = data['win']\n",
        "\n",
        "print(\"\\nFeatures and target separated.\")\n",
        "print(f\"Features shape: {X.shape}\")\n",
        "print(f\"Target shape: {y.shape}\")"
      ],
      "metadata": {
        "colab": {
          "base_uri": "https://localhost:8080/"
        },
        "id": "srB91HF5j7Z1",
        "outputId": "5e8aaf0a-ecf0-4250-8fae-a99e1228392d"
      },
      "execution_count": 4,
      "outputs": [
        {
          "output_type": "stream",
          "name": "stdout",
          "text": [
            "\n",
            "Features and target separated.\n",
            "Features shape: (1000, 8)\n",
            "Target shape: (1000,)\n"
          ]
        }
      ]
    },
    {
      "cell_type": "code",
      "source": [
        "test_size = 0.2\n",
        "random_state = 42  # Ensures reproducibility\n",
        "\n",
        "X_train, X_test, y_train, y_test = train_test_split(\n",
        "    X, y, test_size=test_size, random_state=random_state, stratify=y\n",
        ")\n",
        "\n",
        "print(\"\\nData split into training and testing sets.\")\n",
        "print(f\"Training features shape: {X_train.shape}\")\n",
        "print(f\"Testing features shape: {X_test.shape}\")\n",
        "print(f\"Training target shape: {y_train.shape}\")\n",
        "print(f\"Testing target shape: {y_test.shape}\")"
      ],
      "metadata": {
        "colab": {
          "base_uri": "https://localhost:8080/"
        },
        "id": "rhleDwXIj_Tm",
        "outputId": "eb3b8970-f8c6-4528-a354-2827ee73f788"
      },
      "execution_count": 5,
      "outputs": [
        {
          "output_type": "stream",
          "name": "stdout",
          "text": [
            "\n",
            "Data split into training and testing sets.\n",
            "Training features shape: (800, 8)\n",
            "Testing features shape: (200, 8)\n",
            "Training target shape: (800,)\n",
            "Testing target shape: (200,)\n"
          ]
        }
      ]
    },
    {
      "cell_type": "code",
      "source": [
        "scaler = StandardScaler()\n",
        "\n",
        "X_train_scaled = scaler.fit_transform(X_train)\n",
        "X_test_scaled = scaler.transform(X_test)\n",
        "\n",
        "print(\"\\nFeature scaling completed.\")\n",
        "print(f\"Mean of scaled training features: {X_train_scaled.mean(axis=0)}\")\n",
        "print(f\"Standard deviation of scaled training features: {X_train_scaled.std(axis=0)}\")"
      ],
      "metadata": {
        "colab": {
          "base_uri": "https://localhost:8080/"
        },
        "id": "jS-vAE75kCAe",
        "outputId": "90291e9b-dba3-4e75-ee32-e5784df3f675"
      },
      "execution_count": 6,
      "outputs": [
        {
          "output_type": "stream",
          "name": "stdout",
          "text": [
            "\n",
            "Feature scaling completed.\n",
            "Mean of scaled training features: [-8.88178420e-17  7.99360578e-17  0.00000000e+00 -6.66133815e-17\n",
            " -1.99840144e-16  1.19904087e-16  6.21724894e-17 -1.17683641e-16]\n",
            "Standard deviation of scaled training features: [1. 1. 1. 1. 1. 1. 1. 1.]\n"
          ]
        }
      ]
    },
    {
      "cell_type": "code",
      "source": [
        "X_train_tensor = torch.tensor(X_train_scaled, dtype=torch.float32)\n",
        "X_test_tensor = torch.tensor(X_test_scaled, dtype=torch.float32)\n",
        "\n",
        "# Convert target to float32 tensors and reshape to (n_samples, 1)\n",
        "y_train_tensor = torch.tensor(y_train.values, dtype=torch.float32).view(-1, 1)\n",
        "y_test_tensor = torch.tensor(y_test.values, dtype=torch.float32).view(-1, 1)\n",
        "\n",
        "print(\"\\nConversion to PyTorch tensors completed.\")\n",
        "print(f\"X_train_tensor shape: {X_train_tensor.shape}\")\n",
        "print(f\"y_train_tensor shape: {y_train_tensor.shape}\")\n",
        "print(f\"X_test_tensor shape: {X_test_tensor.shape}\")\n",
        "print(f\"y_test_tensor shape: {y_test_tensor.shape}\")"
      ],
      "metadata": {
        "colab": {
          "base_uri": "https://localhost:8080/"
        },
        "id": "8LZ0r3HVkGom",
        "outputId": "fe9c4cfb-1d04-47b0-9d71-9bb8c7a3b21b"
      },
      "execution_count": 7,
      "outputs": [
        {
          "output_type": "stream",
          "name": "stdout",
          "text": [
            "\n",
            "Conversion to PyTorch tensors completed.\n",
            "X_train_tensor shape: torch.Size([800, 8])\n",
            "y_train_tensor shape: torch.Size([800, 1])\n",
            "X_test_tensor shape: torch.Size([200, 8])\n",
            "y_test_tensor shape: torch.Size([200, 1])\n"
          ]
        }
      ]
    },
    {
      "cell_type": "code",
      "source": [
        "print(\"\\nSample data (first 5 training samples):\")\n",
        "for i in range(5):\n",
        "    print(f\"Feature tensor: {X_train_tensor[i]}\")\n",
        "    print(f\"Target tensor: {y_train_tensor[i]}\\n\")\n",
        "\n",
        "print(\"Data loading and preprocessing completed successfully.\")"
      ],
      "metadata": {
        "colab": {
          "base_uri": "https://localhost:8080/"
        },
        "id": "G0ZH9HpVkJe3",
        "outputId": "c4250563-844a-418e-ec7d-0907df74da52"
      },
      "execution_count": 8,
      "outputs": [
        {
          "output_type": "stream",
          "name": "stdout",
          "text": [
            "\n",
            "Sample data (first 5 training samples):\n",
            "Feature tensor: tensor([ 1.1482, -0.2445, -1.4713,  0.4149,  1.5531,  1.2602, -0.1709, -0.6457])\n",
            "Target tensor: tensor([1.])\n",
            "\n",
            "Feature tensor: tensor([-0.4119,  0.1060,  0.4540,  1.0650,  0.9660,  0.3933, -0.5153,  1.2711])\n",
            "Target tensor: tensor([0.])\n",
            "\n",
            "Feature tensor: tensor([-1.6254,  1.5079, -0.7712,  0.4211,  0.7983,  1.4336,  0.1735,  1.4220])\n",
            "Target tensor: tensor([1.])\n",
            "\n",
            "Feature tensor: tensor([ 0.1081, -1.1207,  0.2789,  0.9272,  1.2876,  0.7401,  0.5178, -1.2290])\n",
            "Target tensor: tensor([1.])\n",
            "\n",
            "Feature tensor: tensor([ 0.1081,  0.8070,  1.6791, -0.6945,  1.3295,  0.5667, -0.1709,  0.5433])\n",
            "Target tensor: tensor([1.])\n",
            "\n",
            "Data loading and preprocessing completed successfully.\n"
          ]
        }
      ]
    },
    {
      "cell_type": "code",
      "source": [
        "import torch.nn as nn\n",
        "import torch.optim as optim\n",
        "\n",
        "class LogisticRegressionModel(nn.Module):\n",
        "    def __init__(self, input_dim):\n",
        "        super(LogisticRegressionModel, self).__init__()\n",
        "        self.linear = nn.Linear(input_dim, 1)\n",
        "\n",
        "    def forward(self, x):\n",
        "        out = torch.sigmoid(self.linear(x))\n",
        "        return out"
      ],
      "metadata": {
        "id": "fiw9nnvnkmJh"
      },
      "execution_count": 9,
      "outputs": []
    },
    {
      "cell_type": "code",
      "source": [
        "input_dim = X_train_tensor.shape[1]\n",
        "print(f\"Number of input features: {input_dim}\")\n",
        "\n",
        "model = LogisticRegressionModel(input_dim)\n",
        "print(\"\\nLogistic Regression Model:\")\n",
        "print(model)\n",
        "\n",
        "criterion = nn.BCELoss()\n",
        "\n",
        "learning_rate = 0.01\n",
        "optimizer = optim.SGD(model.parameters(), lr=learning_rate)\n",
        "\n",
        "print(\"\\nModel, loss function, and optimizer initialized successfully.\")"
      ],
      "metadata": {
        "colab": {
          "base_uri": "https://localhost:8080/"
        },
        "id": "ebN6zTgfk5KH",
        "outputId": "3a50e09c-267f-4a7a-cbf8-03073a4e6855"
      },
      "execution_count": 10,
      "outputs": [
        {
          "output_type": "stream",
          "name": "stdout",
          "text": [
            "Number of input features: 8\n",
            "\n",
            "Logistic Regression Model:\n",
            "LogisticRegressionModel(\n",
            "  (linear): Linear(in_features=8, out_features=1, bias=True)\n",
            ")\n",
            "\n",
            "Model, loss function, and optimizer initialized successfully.\n"
          ]
        }
      ]
    },
    {
      "cell_type": "code",
      "source": [
        "num_epochs = 1000\n",
        "\n",
        "for epoch in range(1, num_epochs + 1):\n",
        "    model.train()\n",
        "\n",
        "    optimizer.zero_grad()\n",
        "\n",
        "    outputs = model(X_train_tensor)\n",
        "\n",
        "    loss = criterion(outputs, y_train_tensor)\n",
        "\n",
        "    loss.backward()\n",
        "\n",
        "    optimizer.step()\n",
        "\n",
        "    if epoch % 100 == 0:\n",
        "        print(f\"Epoch [{epoch}/{num_epochs}], Loss: {loss.item():.4f}\")"
      ],
      "metadata": {
        "colab": {
          "base_uri": "https://localhost:8080/"
        },
        "id": "e9uh8s1GlxPI",
        "outputId": "6e8330a4-8045-4c32-de5f-e94ab4e83d9c"
      },
      "execution_count": 12,
      "outputs": [
        {
          "output_type": "stream",
          "name": "stdout",
          "text": [
            "Epoch [100/1000], Loss: 0.7140\n",
            "Epoch [200/1000], Loss: 0.7055\n",
            "Epoch [300/1000], Loss: 0.7000\n",
            "Epoch [400/1000], Loss: 0.6965\n",
            "Epoch [500/1000], Loss: 0.6942\n",
            "Epoch [600/1000], Loss: 0.6928\n",
            "Epoch [700/1000], Loss: 0.6919\n",
            "Epoch [800/1000], Loss: 0.6913\n",
            "Epoch [900/1000], Loss: 0.6909\n",
            "Epoch [1000/1000], Loss: 0.6907\n"
          ]
        }
      ]
    },
    {
      "cell_type": "code",
      "source": [
        "model.eval()\n",
        "\n",
        "with torch.no_grad():\n",
        "\n",
        "    train_outputs = model(X_train_tensor)\n",
        "    train_predicted = (train_outputs >= 0.5).float()\n",
        "\n",
        "    test_outputs = model(X_test_tensor)\n",
        "\n",
        "    test_predicted = (test_outputs >= 0.5).float()\n",
        "\n",
        "    # Calculate training accuracy\n",
        "    train_correct = (train_predicted == y_train_tensor).sum().item()\n",
        "    train_total = y_train_tensor.size(0)\n",
        "    train_accuracy = train_correct / train_total * 100\n",
        "\n",
        "    # Calculate testing accuracy\n",
        "    test_correct = (test_predicted == y_test_tensor).sum().item()\n",
        "    test_total = y_test_tensor.size(0)\n",
        "    test_accuracy = test_correct / test_total * 100\n",
        "\n",
        "print(f\"\\nTraining Accuracy: {train_accuracy:.2f}%\")\n",
        "print(f\"Testing Accuracy: {test_accuracy:.2f}%\")"
      ],
      "metadata": {
        "colab": {
          "base_uri": "https://localhost:8080/"
        },
        "id": "HIgl3gbvlyjf",
        "outputId": "c7e5e0e8-65cc-418a-93a7-48ff521105ed"
      },
      "execution_count": 13,
      "outputs": [
        {
          "output_type": "stream",
          "name": "stdout",
          "text": [
            "\n",
            "Training Accuracy: 54.62%\n",
            "Testing Accuracy: 53.50%\n"
          ]
        }
      ]
    },
    {
      "cell_type": "code",
      "source": [
        "import pandas as pd\n",
        "import numpy as np\n",
        "\n",
        "input_dim = X_train_tensor.shape[1]\n",
        "print(f\"\\nNumber of input features: {input_dim}\")\n",
        "\n",
        "model_optimized = LogisticRegressionModel(input_dim)\n",
        "print(\"\\nLogistic Regression Model with L2 Regularization:\")\n",
        "print(model_optimized)\n",
        "criterion = nn.BCELoss()\n",
        "\n",
        "learning_rate = 0.01\n",
        "weight_decay = 0.01\n",
        "\n",
        "optimizer_optimized = optim.SGD(model_optimized.parameters(), lr=learning_rate, weight_decay=weight_decay)\n",
        "\n",
        "print(\"\\nModel, loss function, and optimizer with L2 regularization initialized successfully.\")"
      ],
      "metadata": {
        "colab": {
          "base_uri": "https://localhost:8080/"
        },
        "id": "3m5GWGormZL6",
        "outputId": "f4a5309a-154d-4470-bce0-cd435bc1f37f"
      },
      "execution_count": 14,
      "outputs": [
        {
          "output_type": "stream",
          "name": "stdout",
          "text": [
            "\n",
            "Number of input features: 8\n",
            "\n",
            "Logistic Regression Model with L2 Regularization:\n",
            "LogisticRegressionModel(\n",
            "  (linear): Linear(in_features=8, out_features=1, bias=True)\n",
            ")\n",
            "\n",
            "Model, loss function, and optimizer with L2 regularization initialized successfully.\n"
          ]
        }
      ]
    },
    {
      "cell_type": "code",
      "source": [
        "# Training Model with L2 Regularization\n",
        "\n",
        "num_epochs = 1000\n",
        "\n",
        "for epoch in range(1, num_epochs + 1):\n",
        "    model_optimized.train()\n",
        "\n",
        "    optimizer_optimized.zero_grad()\n",
        "\n",
        "    outputs = model_optimized(X_train_tensor)\n",
        "\n",
        "    loss = criterion(outputs, y_train_tensor)\n",
        "\n",
        "    loss.backward()\n",
        "\n",
        "    optimizer_optimized.step()\n",
        "\n",
        "    if epoch % 100 == 0:\n",
        "        print(f\"Epoch [{epoch}/{num_epochs}], Loss: {loss.item():.4f}\")"
      ],
      "metadata": {
        "colab": {
          "base_uri": "https://localhost:8080/"
        },
        "id": "KLrc6iaImo2v",
        "outputId": "3b7fbc40-2bd2-4564-9bf3-0db3e2805864"
      },
      "execution_count": 15,
      "outputs": [
        {
          "output_type": "stream",
          "name": "stdout",
          "text": [
            "Epoch [100/1000], Loss: 0.7193\n",
            "Epoch [200/1000], Loss: 0.7083\n",
            "Epoch [300/1000], Loss: 0.7014\n",
            "Epoch [400/1000], Loss: 0.6971\n",
            "Epoch [500/1000], Loss: 0.6945\n",
            "Epoch [600/1000], Loss: 0.6929\n",
            "Epoch [700/1000], Loss: 0.6919\n",
            "Epoch [800/1000], Loss: 0.6913\n",
            "Epoch [900/1000], Loss: 0.6909\n",
            "Epoch [1000/1000], Loss: 0.6907\n"
          ]
        }
      ]
    },
    {
      "cell_type": "code",
      "source": [
        "# Model Evaluation\n",
        "\n",
        "model_optimized.eval()\n",
        "\n",
        "with torch.no_grad():\n",
        "    train_outputs = model_optimized(X_train_tensor)\n",
        "\n",
        "    train_predicted = (train_outputs >= 0.5).float()\n",
        "\n",
        "    test_outputs = model_optimized(X_test_tensor)\n",
        "\n",
        "    test_predicted = (test_outputs >= 0.5).float()\n",
        "\n",
        "    train_correct = (train_predicted == y_train_tensor).sum().item()\n",
        "    train_total = y_train_tensor.size(0)\n",
        "    train_accuracy = train_correct / train_total * 100\n",
        "\n",
        "    test_correct = (test_predicted == y_test_tensor).sum().item()\n",
        "    test_total = y_test_tensor.size(0)\n",
        "    test_accuracy = test_correct / test_total * 100\n",
        "\n",
        "print(f\"\\nOptimized Model Training Accuracy: {train_accuracy:.2f}%\")\n",
        "print(f\"Optimized Model Testing Accuracy: {test_accuracy:.2f}%\")"
      ],
      "metadata": {
        "colab": {
          "base_uri": "https://localhost:8080/"
        },
        "id": "Dz_EyDFsm7F5",
        "outputId": "db3dd2ef-f829-4bf2-e318-10222b02e108"
      },
      "execution_count": 16,
      "outputs": [
        {
          "output_type": "stream",
          "name": "stdout",
          "text": [
            "\n",
            "Optimized Model Training Accuracy: 53.25%\n",
            "Optimized Model Testing Accuracy: 57.00%\n"
          ]
        }
      ]
    },
    {
      "cell_type": "code",
      "source": [
        "import torch.optim as optim\n",
        "import matplotlib.pyplot as plt\n",
        "import seaborn as sns\n",
        "from sklearn.metrics import confusion_matrix, classification_report, roc_curve, auc\n",
        "%matplotlib inline"
      ],
      "metadata": {
        "id": "V4i4Ja9Zn97P"
      },
      "execution_count": 21,
      "outputs": []
    },
    {
      "cell_type": "code",
      "source": [
        "model_optimized.eval()\n",
        "\n",
        "with torch.no_grad():\n",
        "    train_outputs = model_optimized(X_train_tensor)\n",
        "    train_predicted = (train_outputs >= 0.5).float()\n",
        "    train_probs = train_outputs.numpy()\n",
        "    train_labels = y_train_tensor.numpy()\n",
        "\n",
        "    test_outputs = model_optimized(X_test_tensor)\n",
        "    test_predicted = (test_outputs >= 0.5).float()\n",
        "    test_probs = test_outputs.numpy()\n",
        "    test_labels = y_test_tensor.numpy()"
      ],
      "metadata": {
        "id": "H1dRy9jioMTk"
      },
      "execution_count": 22,
      "outputs": []
    },
    {
      "cell_type": "code",
      "source": [
        "def plot_confusion_matrix(y_true, y_pred, title):\n",
        "    cm = confusion_matrix(y_true, y_pred)\n",
        "    plt.figure(figsize=(6,4))\n",
        "    sns.heatmap(cm, annot=True, fmt='d', cmap='Blues', cbar=False)\n",
        "    plt.xlabel('Predicted Label')\n",
        "    plt.ylabel('True Label')\n",
        "    plt.title(title)\n",
        "    plt.show()\n",
        "\n",
        "# Plot Confusion Matrix for Training Set\n",
        "plot_confusion_matrix(train_labels, train_predicted.numpy(), 'Confusion Matrix - Training Set')\n",
        "\n",
        "# Plot Confusion Matrix for Testing Set\n",
        "plot_confusion_matrix(test_labels, test_predicted.numpy(), 'Confusion Matrix - Testing Set')"
      ],
      "metadata": {
        "colab": {
          "base_uri": "https://localhost:8080/",
          "height": 803
        },
        "id": "ey8k0p6eoQAF",
        "outputId": "25b89557-527c-47fd-e827-5b21e1f17205"
      },
      "execution_count": 23,
      "outputs": [
        {
          "output_type": "display_data",
          "data": {
            "text/plain": [
              "<Figure size 600x400 with 1 Axes>"
            ],
            "image/png": "[encoded data removed]"
          },
          "metadata": {}
        },
        {
          "output_type": "display_data",
          "data": {
            "text/plain": [
              "<Figure size 600x400 with 1 Axes>"
            ],
            "image/png": "[encoded data removed]"
          },
          "metadata": {}
        }
      ]
    },
    {
      "cell_type": "code",
      "source": [
        "# Function to plot ROC curve\n",
        "def plot_roc_curve(y_true, y_probs, title):\n",
        "    fpr, tpr, thresholds = roc_curve(y_true, y_probs)\n",
        "    roc_auc = auc(fpr, tpr)\n",
        "\n",
        "    plt.figure(figsize=(6,4))\n",
        "    plt.plot(fpr, tpr, color='darkorange', lw=2, label=f'ROC curve (AUC = {roc_auc:.2f})')\n",
        "    plt.plot([0,1], [0,1], color='navy', lw=2, linestyle='--')\n",
        "    plt.xlim([0.0,1.0])\n",
        "    plt.ylim([0.0,1.05])\n",
        "    plt.xlabel('False Positive Rate')\n",
        "    plt.ylabel('True Positive Rate')\n",
        "    plt.title(title)\n",
        "    plt.legend(loc=\"lower right\")\n",
        "    plt.show()\n",
        "\n",
        "plot_roc_curve(train_labels, train_probs, 'ROC Curve - Training Set')\n",
        "\n",
        "plot_roc_curve(test_labels, test_probs, 'ROC Curve - Testing Set')\n",
        "\n",
        "print(\"Classification Report - Training Set\")\n",
        "print(classification_report(train_labels, train_predicted.numpy()))\n",
        "\n",
        "print(\"Classification Report - Testing Set\")\n",
        "print(classification_report(test_labels, test_predicted.numpy()))"
      ],
      "metadata": {
        "colab": {
          "base_uri": "https://localhost:8080/",
          "height": 1000
        },
        "id": "Da7KBx3coYJO",
        "outputId": "65d57668-2b3f-41c1-ba3a-2e3034e6bc11"
      },
      "execution_count": 24,
      "outputs": [
        {
          "output_type": "display_data",
          "data": {
            "text/plain": [
              "<Figure size 600x400 with 1 Axes>"
            ],
            "image/png": "[encoded data removed]"
          },
          "metadata": {}
        },
        {
          "output_type": "display_data",
          "data": {
            "text/plain": [
              "<Figure size 600x400 with 1 Axes>"
            ],
            "image/png": "[encoded data removed]"
          },
          "metadata": {}
        },
        {
          "output_type": "stream",
          "name": "stdout",
          "text": [
            "Classification Report - Training Set\n",
            "              precision    recall  f1-score   support\n",
            "\n",
            "         0.0       0.53      0.43      0.47       392\n",
            "         1.0       0.54      0.63      0.58       408\n",
            "\n",
            "    accuracy                           0.53       800\n",
            "   macro avg       0.53      0.53      0.53       800\n",
            "weighted avg       0.53      0.53      0.53       800\n",
            "\n",
            "Classification Report - Testing Set\n",
            "              precision    recall  f1-score   support\n",
            "\n",
            "         0.0       0.57      0.48      0.52        98\n",
            "         1.0       0.57      0.66      0.61       102\n",
            "\n",
            "    accuracy                           0.57       200\n",
            "   macro avg       0.57      0.57      0.57       200\n",
            "weighted avg       0.57      0.57      0.57       200\n",
            "\n"
          ]
        }
      ]
    },
    {
      "cell_type": "code",
      "source": [
        "model_save_path = 'logistic_regression_model.pth'\n",
        "torch.save(model_optimized.state_dict(), model_save_path)\n",
        "print(f\"Model saved successfully at '{model_save_path}'.\")"
      ],
      "metadata": {
        "colab": {
          "base_uri": "https://localhost:8080/"
        },
        "id": "mYFZRfVpow5t",
        "outputId": "72952027-37dc-4413-9a68-d530a4bb6f00"
      },
      "execution_count": 25,
      "outputs": [
        {
          "output_type": "stream",
          "name": "stdout",
          "text": [
            "Model saved successfully at 'logistic_regression_model.pth'.\n"
          ]
        }
      ]
    },
    {
      "cell_type": "code",
      "source": [
        "model_loaded = LogisticRegressionModel(input_dim)\n",
        "model_loaded.load_state_dict(torch.load(model_save_path))\n",
        "\n",
        "model_loaded.eval()\n",
        "print(\"Model loaded successfully and set to evaluation mode.\")"
      ],
      "metadata": {
        "colab": {
          "base_uri": "https://localhost:8080/"
        },
        "id": "lSNhdZYPoyOW",
        "outputId": "56975586-1751-4734-c9c4-f5182393eed4"
      },
      "execution_count": 26,
      "outputs": [
        {
          "output_type": "stream",
          "name": "stdout",
          "text": [
            "Model loaded successfully and set to evaluation mode.\n"
          ]
        },
        {
          "output_type": "stream",
          "name": "stderr",
          "text": [
            "<ipython-input-26-c8013f0e0c2a>:5: FutureWarning: You are using `torch.load` with `weights_only=False` (the current default value), which uses the default pickle module implicitly. It is possible to construct malicious pickle data which will execute arbitrary code during unpickling (See https://github.com/pytorch/pytorch/blob/main/SECURITY.md#untrusted-models for more details). In a future release, the default value for `weights_only` will be flipped to `True`. This limits the functions that could be executed during unpickling. Arbitrary objects will no longer be allowed to be loaded via this mode unless they are explicitly allowlisted by the user via `torch.serialization.add_safe_globals`. We recommend you start setting `weights_only=True` for any use case where you don't have full control of the loaded file. Please open an issue on GitHub for any issues related to this experimental feature.\n",
            "  model_loaded.load_state_dict(torch.load(model_save_path))\n"
          ]
        }
      ]
    },
    {
      "cell_type": "code",
      "source": [
        "with torch.no_grad():\n",
        "    test_outputs_loaded = model_loaded(X_test_tensor)\n",
        "    test_predicted_loaded = (test_outputs_loaded >= 0.5).float()\n",
        "    test_correct_loaded = (test_predicted_loaded == y_test_tensor).sum().item()\n",
        "\n",
        "    test_total = y_test_tensor.size(0)\n",
        "\n",
        "    test_accuracy_loaded = (test_correct_loaded / test_total) * 100\n",
        "\n",
        "print(f\"Loaded Model Testing Accuracy: {test_accuracy_loaded:.2f}%\")"
      ],
      "metadata": {
        "colab": {
          "base_uri": "https://localhost:8080/"
        },
        "id": "eQi-KfQeo1Mw",
        "outputId": "f557eea4-551e-4b6f-b1aa-80b1c20632be"
      },
      "execution_count": 27,
      "outputs": [
        {
          "output_type": "stream",
          "name": "stdout",
          "text": [
            "Loaded Model Testing Accuracy: 57.00%\n"
          ]
        }
      ]
    },
    {
      "cell_type": "code",
      "source": [
        "def train_and_evaluate(lr, input_dim, X_train, y_train, X_test, y_test, epochs=100, weight_decay=0.01):\n",
        "    # Initialize the model\n",
        "    model = LogisticRegressionModel(input_dim)\n",
        "\n",
        "    criterion = nn.BCELoss()\n",
        "\n",
        "    optimizer = optim.SGD(model.parameters(), lr=lr, weight_decay=weight_decay)\n",
        "\n",
        "    # Training loop\n",
        "    for epoch in range(1, epochs + 1):\n",
        "        model.train()\n",
        "        optimizer.zero_grad()\n",
        "        outputs = model(X_train)\n",
        "        loss = criterion(outputs, y_train)\n",
        "        loss.backward()\n",
        "        optimizer.step()\n",
        "\n",
        "        if epoch % 20 == 0:\n",
        "            print(f\"Learning Rate: {lr}, Epoch [{epoch}/{epochs}], Loss: {loss.item():.4f}\")\n",
        "\n",
        "    model.eval()\n",
        "    with torch.no_grad():\n",
        "\n",
        "        test_outputs = model(X_test)\n",
        "        test_predicted = (test_outputs >= 0.5).float()\n",
        "\n",
        "        test_correct = (test_predicted == y_test).sum().item()\n",
        "        test_total = y_test.size(0)\n",
        "        test_accuracy = (test_correct / test_total) * 100\n",
        "\n",
        "    return test_accuracy"
      ],
      "metadata": {
        "id": "GQ3ZbfQbpXxr"
      },
      "execution_count": 28,
      "outputs": []
    },
    {
      "cell_type": "code",
      "source": [
        "learning_rates = [0.01, 0.05, 0.1]\n",
        "\n",
        "input_dim = X_train_tensor.shape[1]\n",
        "\n",
        "test_accuracies = {}\n",
        "\n",
        "# Perform hyperparameter tuning\n",
        "for lr in learning_rates:\n",
        "    print(f\"\\nTraining with Learning Rate: {lr}\")\n",
        "    accuracy = train_and_evaluate(\n",
        "        lr=lr,\n",
        "        input_dim=input_dim,\n",
        "        X_train=X_train_tensor,\n",
        "        y_train=y_train_tensor,\n",
        "        X_test=X_test_tensor,\n",
        "        y_test=y_test_tensor,\n",
        "        epochs=100,\n",
        "        weight_decay=0.01\n",
        "    )\n",
        "    test_accuracies[lr] = accuracy\n",
        "    print(f\"Test Accuracy with Learning Rate {lr}: {accuracy:.2f}%\")\n",
        "\n",
        "best_lr = max(test_accuracies, key=test_accuracies.get)\n",
        "best_accuracy = test_accuracies[best_lr]\n",
        "\n",
        "print(f\"\\nBest Learning Rate: {best_lr} with Test Accuracy: {best_accuracy:.2f}%\")\n",
        "\n",
        "plt.figure(figsize=(8,6))\n",
        "lrs = list(test_accuracies.keys())\n",
        "accuracies = list(test_accuracies.values())\n",
        "plt.bar([str(lr) for lr in lrs], accuracies, color='skyblue')\n",
        "plt.xlabel('Learning Rate')\n",
        "plt.ylabel('Test Accuracy (%)')\n",
        "plt.title('Test Accuracy for Different Learning Rates')\n",
        "plt.ylim(0, 100)\n",
        "for i, v in enumerate(accuracies):\n",
        "    plt.text(i, v + 1, f\"{v:.2f}%\", ha='center', fontweight='bold')\n",
        "plt.show()"
      ],
      "metadata": {
        "colab": {
          "base_uri": "https://localhost:8080/",
          "height": 1000
        },
        "id": "xdN1L4BJpZJ9",
        "outputId": "7d963ee3-7de6-4cb2-9089-4f9e1e7b2707"
      },
      "execution_count": 29,
      "outputs": [
        {
          "output_type": "stream",
          "name": "stdout",
          "text": [
            "\n",
            "Training with Learning Rate: 0.01\n",
            "Learning Rate: 0.01, Epoch [20/100], Loss: 0.7625\n",
            "Learning Rate: 0.01, Epoch [40/100], Loss: 0.7557\n",
            "Learning Rate: 0.01, Epoch [60/100], Loss: 0.7495\n",
            "Learning Rate: 0.01, Epoch [80/100], Loss: 0.7439\n",
            "Learning Rate: 0.01, Epoch [100/100], Loss: 0.7387\n",
            "Test Accuracy with Learning Rate 0.01: 51.00%\n",
            "\n",
            "Training with Learning Rate: 0.05\n",
            "Learning Rate: 0.05, Epoch [20/100], Loss: 0.6983\n",
            "Learning Rate: 0.05, Epoch [40/100], Loss: 0.6952\n",
            "Learning Rate: 0.05, Epoch [60/100], Loss: 0.6933\n",
            "Learning Rate: 0.05, Epoch [80/100], Loss: 0.6922\n",
            "Learning Rate: 0.05, Epoch [100/100], Loss: 0.6915\n",
            "Test Accuracy with Learning Rate 0.05: 52.50%\n",
            "\n",
            "Training with Learning Rate: 0.1\n",
            "Learning Rate: 0.1, Epoch [20/100], Loss: 0.7057\n",
            "Learning Rate: 0.1, Epoch [40/100], Loss: 0.6961\n",
            "Learning Rate: 0.1, Epoch [60/100], Loss: 0.6925\n",
            "Learning Rate: 0.1, Epoch [80/100], Loss: 0.6911\n",
            "Learning Rate: 0.1, Epoch [100/100], Loss: 0.6906\n",
            "Test Accuracy with Learning Rate 0.1: 54.00%\n",
            "\n",
            "Best Learning Rate: 0.1 with Test Accuracy: 54.00%\n"
          ]
        },
        {
          "output_type": "display_data",
          "data": {
            "text/plain": [
              "<Figure size 800x600 with 1 Axes>"
            ],
            "image/png": "[encoded data removed]"
          },
          "metadata": {}
        }
      ]
    },
    {
      "cell_type": "code",
      "source": [
        "feature_names = ['kills', 'deaths', 'assists', 'gold_earned', 'cs', 'wards_placed', 'wards_killed', 'damage_dealt']\n",
        "\n",
        "weights = model_optimized.linear.weight.data.numpy().flatten()\n",
        "\n",
        "feature_importance = pd.DataFrame({\n",
        "    'Feature': feature_names,\n",
        "    'Weight': weights,\n",
        "    'Absolute Weight': np.abs(weights)\n",
        "})"
      ],
      "metadata": {
        "id": "HTP-FcjUp3tm"
      },
      "execution_count": 30,
      "outputs": []
    },
    {
      "cell_type": "code",
      "source": [
        "feature_importance_sorted = feature_importance.sort_values(by='Absolute Weight', ascending=True)\n",
        "\n",
        "# Plotting Feature Importance\n",
        "plt.figure(figsize=(10, 6))\n",
        "sns.barplot(x='Weight', y='Feature', data=feature_importance_sorted, palette='viridis')\n",
        "plt.title('Feature Importance based on Logistic Regression Weights')\n",
        "plt.xlabel('Weight')\n",
        "plt.ylabel('Feature')\n",
        "plt.tight_layout()\n",
        "plt.show()\n",
        "\n",
        "print(\"Feature Importance:\")\n",
        "print(feature_importance_sorted[['Feature', 'Weight']])"
      ],
      "metadata": {
        "colab": {
          "base_uri": "https://localhost:8080/",
          "height": 895
        },
        "id": "2y_1nwz6p50a",
        "outputId": "14566671-9b0a-4614-d4ac-cbd77941f061"
      },
      "execution_count": 31,
      "outputs": [
        {
          "output_type": "stream",
          "name": "stderr",
          "text": [
            "<ipython-input-31-fcd4aa9826f9>:6: FutureWarning: \n",
            "\n",
            "Passing `palette` without assigning `hue` is deprecated and will be removed in v0.14.0. Assign the `y` variable to `hue` and set `legend=False` for the same effect.\n",
            "\n",
            "  sns.barplot(x='Weight', y='Feature', data=feature_importance_sorted, palette='viridis')\n"
          ]
        },
        {
          "output_type": "display_data",
          "data": {
            "text/plain": [
              "<Figure size 1000x600 with 1 Axes>"
            ],
            "image/png": "[encoded data removed]"
          },
          "metadata": {}
        },
        {
          "output_type": "stream",
          "name": "stdout",
          "text": [
            "Feature Importance:\n",
            "        Feature    Weight\n",
            "2       assists  0.015177\n",
            "1        deaths -0.018045\n",
            "6  wards_killed  0.024891\n",
            "4            cs -0.031002\n",
            "7  damage_dealt -0.050144\n",
            "3   gold_earned  0.051992\n",
            "5  wards_placed  0.072442\n",
            "0         kills  0.077157\n"
          ]
        }
      ]
    },
    {
      "cell_type": "code",
      "source": [],
      "metadata": {
        "id": "Y4mZAhwUqC2I"
      },
      "execution_count": null,
      "outputs": []
    }
  ]
}